{
 "cells": [
  {
   "cell_type": "code",
   "execution_count": 62,
   "id": "d003fe5f",
   "metadata": {},
   "outputs": [],
   "source": [
    "import pandas as pd\n",
    "import matplotlib.pyplot as plt"
   ]
  },
  {
   "cell_type": "code",
   "execution_count": 63,
   "id": "f7426587",
   "metadata": {},
   "outputs": [
    {
     "data": {
      "text/html": [
       "<div>\n",
       "<style scoped>\n",
       "    .dataframe tbody tr th:only-of-type {\n",
       "        vertical-align: middle;\n",
       "    }\n",
       "\n",
       "    .dataframe tbody tr th {\n",
       "        vertical-align: top;\n",
       "    }\n",
       "\n",
       "    .dataframe thead th {\n",
       "        text-align: right;\n",
       "    }\n",
       "</style>\n",
       "<table border=\"1\" class=\"dataframe\">\n",
       "  <thead>\n",
       "    <tr style=\"text-align: right;\">\n",
       "      <th></th>\n",
       "      <th>Date</th>\n",
       "      <th>Price</th>\n",
       "      <th>Open</th>\n",
       "      <th>High</th>\n",
       "      <th>Low</th>\n",
       "      <th>Vol.</th>\n",
       "      <th>Change %</th>\n",
       "    </tr>\n",
       "  </thead>\n",
       "  <tbody>\n",
       "    <tr>\n",
       "      <th>0</th>\n",
       "      <td>11/03/2023</td>\n",
       "      <td>125.45</td>\n",
       "      <td>125.00</td>\n",
       "      <td>125.60</td>\n",
       "      <td>124.70</td>\n",
       "      <td>9.13M</td>\n",
       "      <td>0.76%</td>\n",
       "    </tr>\n",
       "    <tr>\n",
       "      <th>1</th>\n",
       "      <td>11/02/2023</td>\n",
       "      <td>124.50</td>\n",
       "      <td>123.15</td>\n",
       "      <td>124.50</td>\n",
       "      <td>123.15</td>\n",
       "      <td>10.20M</td>\n",
       "      <td>2.26%</td>\n",
       "    </tr>\n",
       "    <tr>\n",
       "      <th>2</th>\n",
       "      <td>11/01/2023</td>\n",
       "      <td>121.75</td>\n",
       "      <td>122.00</td>\n",
       "      <td>122.15</td>\n",
       "      <td>121.25</td>\n",
       "      <td>4.85M</td>\n",
       "      <td>0.50%</td>\n",
       "    </tr>\n",
       "    <tr>\n",
       "      <th>3</th>\n",
       "      <td>10/31/2023</td>\n",
       "      <td>121.15</td>\n",
       "      <td>122.40</td>\n",
       "      <td>122.45</td>\n",
       "      <td>121.10</td>\n",
       "      <td>11.95M</td>\n",
       "      <td>-0.70%</td>\n",
       "    </tr>\n",
       "    <tr>\n",
       "      <th>4</th>\n",
       "      <td>10/30/2023</td>\n",
       "      <td>122.00</td>\n",
       "      <td>122.40</td>\n",
       "      <td>122.85</td>\n",
       "      <td>121.75</td>\n",
       "      <td>9.79M</td>\n",
       "      <td>-0.25%</td>\n",
       "    </tr>\n",
       "    <tr>\n",
       "      <th>...</th>\n",
       "      <td>...</td>\n",
       "      <td>...</td>\n",
       "      <td>...</td>\n",
       "      <td>...</td>\n",
       "      <td>...</td>\n",
       "      <td>...</td>\n",
       "      <td>...</td>\n",
       "    </tr>\n",
       "    <tr>\n",
       "      <th>2397</th>\n",
       "      <td>01/08/2014</td>\n",
       "      <td>57.80</td>\n",
       "      <td>57.70</td>\n",
       "      <td>57.95</td>\n",
       "      <td>57.70</td>\n",
       "      <td>7.61M</td>\n",
       "      <td>0.17%</td>\n",
       "    </tr>\n",
       "    <tr>\n",
       "      <th>2398</th>\n",
       "      <td>01/07/2014</td>\n",
       "      <td>57.70</td>\n",
       "      <td>57.75</td>\n",
       "      <td>57.90</td>\n",
       "      <td>57.70</td>\n",
       "      <td>13.13M</td>\n",
       "      <td>0.00%</td>\n",
       "    </tr>\n",
       "    <tr>\n",
       "      <th>2399</th>\n",
       "      <td>01/06/2014</td>\n",
       "      <td>57.70</td>\n",
       "      <td>57.75</td>\n",
       "      <td>57.95</td>\n",
       "      <td>57.55</td>\n",
       "      <td>14.87M</td>\n",
       "      <td>-0.26%</td>\n",
       "    </tr>\n",
       "    <tr>\n",
       "      <th>2400</th>\n",
       "      <td>01/03/2014</td>\n",
       "      <td>57.85</td>\n",
       "      <td>58.45</td>\n",
       "      <td>58.45</td>\n",
       "      <td>57.70</td>\n",
       "      <td>14.51M</td>\n",
       "      <td>-1.20%</td>\n",
       "    </tr>\n",
       "    <tr>\n",
       "      <th>2401</th>\n",
       "      <td>01/02/2014</td>\n",
       "      <td>58.55</td>\n",
       "      <td>58.70</td>\n",
       "      <td>58.75</td>\n",
       "      <td>58.35</td>\n",
       "      <td>10.76M</td>\n",
       "      <td>-0.26%</td>\n",
       "    </tr>\n",
       "  </tbody>\n",
       "</table>\n",
       "<p>2402 rows × 7 columns</p>\n",
       "</div>"
      ],
      "text/plain": [
       "            Date   Price    Open    High     Low    Vol. Change %\n",
       "0     11/03/2023  125.45  125.00  125.60  124.70   9.13M    0.76%\n",
       "1     11/02/2023  124.50  123.15  124.50  123.15  10.20M    2.26%\n",
       "2     11/01/2023  121.75  122.00  122.15  121.25   4.85M    0.50%\n",
       "3     10/31/2023  121.15  122.40  122.45  121.10  11.95M   -0.70%\n",
       "4     10/30/2023  122.00  122.40  122.85  121.75   9.79M   -0.25%\n",
       "...          ...     ...     ...     ...     ...     ...      ...\n",
       "2397  01/08/2014   57.80   57.70   57.95   57.70   7.61M    0.17%\n",
       "2398  01/07/2014   57.70   57.75   57.90   57.70  13.13M    0.00%\n",
       "2399  01/06/2014   57.70   57.75   57.95   57.55  14.87M   -0.26%\n",
       "2400  01/03/2014   57.85   58.45   58.45   57.70  14.51M   -1.20%\n",
       "2401  01/02/2014   58.55   58.70   58.75   58.35  10.76M   -0.26%\n",
       "\n",
       "[2402 rows x 7 columns]"
      ]
     },
     "execution_count": 63,
     "metadata": {},
     "output_type": "execute_result"
    }
   ],
   "source": [
    "#這邊是先將資料載入後做統一格式的前處理\n",
    "Data=pd.read_csv(\"0050 ETF Stock Price History.csv\") #載入csv\n",
    "Data #show data"
   ]
  },
  {
   "cell_type": "code",
   "execution_count": 64,
   "id": "8a47c197",
   "metadata": {},
   "outputs": [
    {
     "data": {
      "text/html": [
       "<div>\n",
       "<style scoped>\n",
       "    .dataframe tbody tr th:only-of-type {\n",
       "        vertical-align: middle;\n",
       "    }\n",
       "\n",
       "    .dataframe tbody tr th {\n",
       "        vertical-align: top;\n",
       "    }\n",
       "\n",
       "    .dataframe thead th {\n",
       "        text-align: right;\n",
       "    }\n",
       "</style>\n",
       "<table border=\"1\" class=\"dataframe\">\n",
       "  <thead>\n",
       "    <tr style=\"text-align: right;\">\n",
       "      <th></th>\n",
       "      <th>Price</th>\n",
       "      <th>Open</th>\n",
       "      <th>High</th>\n",
       "      <th>Low</th>\n",
       "      <th>Vol.</th>\n",
       "      <th>Change %</th>\n",
       "    </tr>\n",
       "    <tr>\n",
       "      <th>Date</th>\n",
       "      <th></th>\n",
       "      <th></th>\n",
       "      <th></th>\n",
       "      <th></th>\n",
       "      <th></th>\n",
       "      <th></th>\n",
       "    </tr>\n",
       "  </thead>\n",
       "  <tbody>\n",
       "    <tr>\n",
       "      <th>2014-01-02</th>\n",
       "      <td>58.55</td>\n",
       "      <td>58.70</td>\n",
       "      <td>58.75</td>\n",
       "      <td>58.35</td>\n",
       "      <td>10.76M</td>\n",
       "      <td>-0.26%</td>\n",
       "    </tr>\n",
       "    <tr>\n",
       "      <th>2014-01-03</th>\n",
       "      <td>57.85</td>\n",
       "      <td>58.45</td>\n",
       "      <td>58.45</td>\n",
       "      <td>57.70</td>\n",
       "      <td>14.51M</td>\n",
       "      <td>-1.20%</td>\n",
       "    </tr>\n",
       "    <tr>\n",
       "      <th>2014-01-06</th>\n",
       "      <td>57.70</td>\n",
       "      <td>57.75</td>\n",
       "      <td>57.95</td>\n",
       "      <td>57.55</td>\n",
       "      <td>14.87M</td>\n",
       "      <td>-0.26%</td>\n",
       "    </tr>\n",
       "    <tr>\n",
       "      <th>2014-01-07</th>\n",
       "      <td>57.70</td>\n",
       "      <td>57.75</td>\n",
       "      <td>57.90</td>\n",
       "      <td>57.70</td>\n",
       "      <td>13.13M</td>\n",
       "      <td>0.00%</td>\n",
       "    </tr>\n",
       "    <tr>\n",
       "      <th>2014-01-08</th>\n",
       "      <td>57.80</td>\n",
       "      <td>57.70</td>\n",
       "      <td>57.95</td>\n",
       "      <td>57.70</td>\n",
       "      <td>7.61M</td>\n",
       "      <td>0.17%</td>\n",
       "    </tr>\n",
       "    <tr>\n",
       "      <th>...</th>\n",
       "      <td>...</td>\n",
       "      <td>...</td>\n",
       "      <td>...</td>\n",
       "      <td>...</td>\n",
       "      <td>...</td>\n",
       "      <td>...</td>\n",
       "    </tr>\n",
       "    <tr>\n",
       "      <th>2023-10-30</th>\n",
       "      <td>122.00</td>\n",
       "      <td>122.40</td>\n",
       "      <td>122.85</td>\n",
       "      <td>121.75</td>\n",
       "      <td>9.79M</td>\n",
       "      <td>-0.25%</td>\n",
       "    </tr>\n",
       "    <tr>\n",
       "      <th>2023-10-31</th>\n",
       "      <td>121.15</td>\n",
       "      <td>122.40</td>\n",
       "      <td>122.45</td>\n",
       "      <td>121.10</td>\n",
       "      <td>11.95M</td>\n",
       "      <td>-0.70%</td>\n",
       "    </tr>\n",
       "    <tr>\n",
       "      <th>2023-11-01</th>\n",
       "      <td>121.75</td>\n",
       "      <td>122.00</td>\n",
       "      <td>122.15</td>\n",
       "      <td>121.25</td>\n",
       "      <td>4.85M</td>\n",
       "      <td>0.50%</td>\n",
       "    </tr>\n",
       "    <tr>\n",
       "      <th>2023-11-02</th>\n",
       "      <td>124.50</td>\n",
       "      <td>123.15</td>\n",
       "      <td>124.50</td>\n",
       "      <td>123.15</td>\n",
       "      <td>10.20M</td>\n",
       "      <td>2.26%</td>\n",
       "    </tr>\n",
       "    <tr>\n",
       "      <th>2023-11-03</th>\n",
       "      <td>125.45</td>\n",
       "      <td>125.00</td>\n",
       "      <td>125.60</td>\n",
       "      <td>124.70</td>\n",
       "      <td>9.13M</td>\n",
       "      <td>0.76%</td>\n",
       "    </tr>\n",
       "  </tbody>\n",
       "</table>\n",
       "<p>2402 rows × 6 columns</p>\n",
       "</div>"
      ],
      "text/plain": [
       "             Price    Open    High     Low    Vol. Change %\n",
       "Date                                                       \n",
       "2014-01-02   58.55   58.70   58.75   58.35  10.76M   -0.26%\n",
       "2014-01-03   57.85   58.45   58.45   57.70  14.51M   -1.20%\n",
       "2014-01-06   57.70   57.75   57.95   57.55  14.87M   -0.26%\n",
       "2014-01-07   57.70   57.75   57.90   57.70  13.13M    0.00%\n",
       "2014-01-08   57.80   57.70   57.95   57.70   7.61M    0.17%\n",
       "...            ...     ...     ...     ...     ...      ...\n",
       "2023-10-30  122.00  122.40  122.85  121.75   9.79M   -0.25%\n",
       "2023-10-31  121.15  122.40  122.45  121.10  11.95M   -0.70%\n",
       "2023-11-01  121.75  122.00  122.15  121.25   4.85M    0.50%\n",
       "2023-11-02  124.50  123.15  124.50  123.15  10.20M    2.26%\n",
       "2023-11-03  125.45  125.00  125.60  124.70   9.13M    0.76%\n",
       "\n",
       "[2402 rows x 6 columns]"
      ]
     },
     "execution_count": 64,
     "metadata": {},
     "output_type": "execute_result"
    }
   ],
   "source": [
    "Data['Date'] = pd.to_datetime(Data['Date']) #將原始資料的時間轉為pandas的Time Series序列\n",
    "Data.index=Data.Date\n",
    "Data=Data.drop(['Date'],axis=1)\n",
    "Data=Data.iloc[::-1] #因為原始資料的前後順序相反了 所以將資料倒過來\n",
    "Data"
   ]
  },
  {
   "cell_type": "code",
   "execution_count": 65,
   "id": "eba0e8a3",
   "metadata": {},
   "outputs": [
    {
     "data": {
      "text/plain": [
       "<matplotlib.axes._subplots.AxesSubplot at 0x7ff6469aac50>"
      ]
     },
     "execution_count": 65,
     "metadata": {},
     "output_type": "execute_result"
    },
    {
     "data": {
      "image/png": "[encoded data removed]",
      "text/plain": [
       "<Figure size 432x288 with 1 Axes>"
      ]
     },
     "metadata": {
      "needs_background": "light"
     },
     "output_type": "display_data"
    }
   ],
   "source": [
    "Data.plot()"
   ]
  },
  {
   "cell_type": "code",
   "execution_count": 66,
   "id": "f7257151",
   "metadata": {},
   "outputs": [],
   "source": [
    "#Data.Price.loc['2019'].plot()"
   ]
  },
  {
   "cell_type": "code",
   "execution_count": 67,
   "id": "d395f719",
   "metadata": {},
   "outputs": [
    {
     "data": {
      "text/plain": [
       "<matplotlib.axes._subplots.AxesSubplot at 0x7ff6462dfdd0>"
      ]
     },
     "execution_count": 67,
     "metadata": {},
     "output_type": "execute_result"
    },
    {
     "data": {
      "image/png": "[encoded data removed]",
      "text/plain": [
       "<Figure size 432x288 with 1 Axes>"
      ]
     },
     "metadata": {
      "needs_background": "light"
     },
     "output_type": "display_data"
    }
   ],
   "source": [
    "#要使用均線交叉策略 所以先定義兩條均線\n",
    "fast=Data.Price.rolling(5).mean() #比較快的均線 參數為5\n",
    "slow=Data.Price.rolling(20).mean() #比較慢的均線 參數為20\n",
    "fast.plot()\n",
    "slow.plot()"
   ]
  },
  {
   "cell_type": "code",
   "execution_count": 68,
   "id": "0352f87c",
   "metadata": {},
   "outputs": [
    {
     "data": {
      "text/plain": [
       "Date\n",
       "2014-01-02    False\n",
       "2014-01-03    False\n",
       "2014-01-06    False\n",
       "2014-01-07    False\n",
       "2014-01-08    False\n",
       "              ...  \n",
       "2023-10-30    False\n",
       "2023-10-31    False\n",
       "2023-11-01    False\n",
       "2023-11-02    False\n",
       "2023-11-03    False\n",
       "Name: Price, Length: 2402, dtype: bool"
      ]
     },
     "execution_count": 68,
     "metadata": {},
     "output_type": "execute_result"
    },
    {
     "data": {
      "image/png": "[encoded data removed]",
      "text/plain": [
       "<Figure size 432x288 with 1 Axes>"
      ]
     },
     "metadata": {
      "needs_background": "light"
     },
     "output_type": "display_data"
    }
   ],
   "source": [
    "#這邊是使用判斷式來過濾出進場&出場時間點\n",
    "Entry=(fast>slow) &(fast.shift()<slow.shift()) #定義進場:快線向上穿越慢線\n",
    "Exit=(fast<slow) &(fast.shift()>slow.shift()) #定義出場:快線向下穿越慢線\n",
    "Data['Entry']=Entry\n",
    "Data['Exit']=Exit\n",
    "Entry.astype(int).plot()\n",
    "Entry"
   ]
  },
  {
   "cell_type": "code",
   "execution_count": 69,
   "id": "7199971a",
   "metadata": {},
   "outputs": [
    {
     "data": {
      "text/html": [
       "<div>\n",
       "<style scoped>\n",
       "    .dataframe tbody tr th:only-of-type {\n",
       "        vertical-align: middle;\n",
       "    }\n",
       "\n",
       "    .dataframe tbody tr th {\n",
       "        vertical-align: top;\n",
       "    }\n",
       "\n",
       "    .dataframe thead th {\n",
       "        text-align: right;\n",
       "    }\n",
       "</style>\n",
       "<table border=\"1\" class=\"dataframe\">\n",
       "  <thead>\n",
       "    <tr style=\"text-align: right;\">\n",
       "      <th></th>\n",
       "      <th>Price</th>\n",
       "      <th>Open</th>\n",
       "      <th>High</th>\n",
       "      <th>Low</th>\n",
       "      <th>Vol.</th>\n",
       "      <th>Change %</th>\n",
       "      <th>Entry</th>\n",
       "      <th>Exit</th>\n",
       "    </tr>\n",
       "    <tr>\n",
       "      <th>Date</th>\n",
       "      <th></th>\n",
       "      <th></th>\n",
       "      <th></th>\n",
       "      <th></th>\n",
       "      <th></th>\n",
       "      <th></th>\n",
       "      <th></th>\n",
       "      <th></th>\n",
       "    </tr>\n",
       "  </thead>\n",
       "  <tbody>\n",
       "    <tr>\n",
       "      <th>2014-01-02</th>\n",
       "      <td>58.55</td>\n",
       "      <td>58.70</td>\n",
       "      <td>58.75</td>\n",
       "      <td>58.35</td>\n",
       "      <td>10.76M</td>\n",
       "      <td>-0.26%</td>\n",
       "      <td>False</td>\n",
       "      <td>False</td>\n",
       "    </tr>\n",
       "    <tr>\n",
       "      <th>2014-01-03</th>\n",
       "      <td>57.85</td>\n",
       "      <td>58.45</td>\n",
       "      <td>58.45</td>\n",
       "      <td>57.70</td>\n",
       "      <td>14.51M</td>\n",
       "      <td>-1.20%</td>\n",
       "      <td>False</td>\n",
       "      <td>False</td>\n",
       "    </tr>\n",
       "    <tr>\n",
       "      <th>2014-01-06</th>\n",
       "      <td>57.70</td>\n",
       "      <td>57.75</td>\n",
       "      <td>57.95</td>\n",
       "      <td>57.55</td>\n",
       "      <td>14.87M</td>\n",
       "      <td>-0.26%</td>\n",
       "      <td>False</td>\n",
       "      <td>False</td>\n",
       "    </tr>\n",
       "    <tr>\n",
       "      <th>2014-01-07</th>\n",
       "      <td>57.70</td>\n",
       "      <td>57.75</td>\n",
       "      <td>57.90</td>\n",
       "      <td>57.70</td>\n",
       "      <td>13.13M</td>\n",
       "      <td>0.00%</td>\n",
       "      <td>False</td>\n",
       "      <td>False</td>\n",
       "    </tr>\n",
       "    <tr>\n",
       "      <th>2014-01-08</th>\n",
       "      <td>57.80</td>\n",
       "      <td>57.70</td>\n",
       "      <td>57.95</td>\n",
       "      <td>57.70</td>\n",
       "      <td>7.61M</td>\n",
       "      <td>0.17%</td>\n",
       "      <td>False</td>\n",
       "      <td>False</td>\n",
       "    </tr>\n",
       "    <tr>\n",
       "      <th>...</th>\n",
       "      <td>...</td>\n",
       "      <td>...</td>\n",
       "      <td>...</td>\n",
       "      <td>...</td>\n",
       "      <td>...</td>\n",
       "      <td>...</td>\n",
       "      <td>...</td>\n",
       "      <td>...</td>\n",
       "    </tr>\n",
       "    <tr>\n",
       "      <th>2023-10-30</th>\n",
       "      <td>122.00</td>\n",
       "      <td>122.40</td>\n",
       "      <td>122.85</td>\n",
       "      <td>121.75</td>\n",
       "      <td>9.79M</td>\n",
       "      <td>-0.25%</td>\n",
       "      <td>False</td>\n",
       "      <td>False</td>\n",
       "    </tr>\n",
       "    <tr>\n",
       "      <th>2023-10-31</th>\n",
       "      <td>121.15</td>\n",
       "      <td>122.40</td>\n",
       "      <td>122.45</td>\n",
       "      <td>121.10</td>\n",
       "      <td>11.95M</td>\n",
       "      <td>-0.70%</td>\n",
       "      <td>False</td>\n",
       "      <td>False</td>\n",
       "    </tr>\n",
       "    <tr>\n",
       "      <th>2023-11-01</th>\n",
       "      <td>121.75</td>\n",
       "      <td>122.00</td>\n",
       "      <td>122.15</td>\n",
       "      <td>121.25</td>\n",
       "      <td>4.85M</td>\n",
       "      <td>0.50%</td>\n",
       "      <td>False</td>\n",
       "      <td>False</td>\n",
       "    </tr>\n",
       "    <tr>\n",
       "      <th>2023-11-02</th>\n",
       "      <td>124.50</td>\n",
       "      <td>123.15</td>\n",
       "      <td>124.50</td>\n",
       "      <td>123.15</td>\n",
       "      <td>10.20M</td>\n",
       "      <td>2.26%</td>\n",
       "      <td>False</td>\n",
       "      <td>False</td>\n",
       "    </tr>\n",
       "    <tr>\n",
       "      <th>2023-11-03</th>\n",
       "      <td>125.45</td>\n",
       "      <td>125.00</td>\n",
       "      <td>125.60</td>\n",
       "      <td>124.70</td>\n",
       "      <td>9.13M</td>\n",
       "      <td>0.76%</td>\n",
       "      <td>False</td>\n",
       "      <td>False</td>\n",
       "    </tr>\n",
       "  </tbody>\n",
       "</table>\n",
       "<p>2402 rows × 8 columns</p>\n",
       "</div>"
      ],
      "text/plain": [
       "             Price    Open    High     Low    Vol. Change %  Entry   Exit\n",
       "Date                                                                     \n",
       "2014-01-02   58.55   58.70   58.75   58.35  10.76M   -0.26%  False  False\n",
       "2014-01-03   57.85   58.45   58.45   57.70  14.51M   -1.20%  False  False\n",
       "2014-01-06   57.70   57.75   57.95   57.55  14.87M   -0.26%  False  False\n",
       "2014-01-07   57.70   57.75   57.90   57.70  13.13M    0.00%  False  False\n",
       "2014-01-08   57.80   57.70   57.95   57.70   7.61M    0.17%  False  False\n",
       "...            ...     ...     ...     ...     ...      ...    ...    ...\n",
       "2023-10-30  122.00  122.40  122.85  121.75   9.79M   -0.25%  False  False\n",
       "2023-10-31  121.15  122.40  122.45  121.10  11.95M   -0.70%  False  False\n",
       "2023-11-01  121.75  122.00  122.15  121.25   4.85M    0.50%  False  False\n",
       "2023-11-02  124.50  123.15  124.50  123.15  10.20M    2.26%  False  False\n",
       "2023-11-03  125.45  125.00  125.60  124.70   9.13M    0.76%  False  False\n",
       "\n",
       "[2402 rows x 8 columns]"
      ]
     },
     "execution_count": 69,
     "metadata": {},
     "output_type": "execute_result"
    }
   ],
   "source": [
    "Data"
   ]
  },
  {
   "cell_type": "code",
   "execution_count": 70,
   "id": "52e9c813",
   "metadata": {},
   "outputs": [],
   "source": [
    "# 交易模型的回測函數\n",
    "def Backtesting(Data):\n",
    "    # 初始化總收益\n",
    "    Gain = 0\n",
    "    # 用來存放每次交易的收益的列表\n",
    "    GainList = []\n",
    "\n",
    "    # 從輸入的資料中選取進場點\n",
    "    EntryList = Data[Data['Entry'] == True]\n",
    "    # 從輸入的資料中選取出場點\n",
    "    ExitList = Data[Data['Exit'] == True]\n",
    "    # 迭代處理每次進場\n",
    "    for i in range(len(EntryList)-1):\n",
    "        # 購買價格為進場點的價格\n",
    "        BuyPrice = EntryList.Price.values[i]\n",
    "        # 進場時間\n",
    "        Time = EntryList.index[i]\n",
    "        # 賣出價格為進場後的第一個出場點的價格\n",
    "        SellPrice = ExitList.loc[Time:].Price.values[0]\n",
    "\n",
    "        # 計算該次交易的收益並加總到總收益\n",
    "        Gain += (SellPrice - BuyPrice)\n",
    "        # 將該次交易的收益加入收益列表\n",
    "        GainList.append(Gain)\n",
    "\n",
    "    # 將收益列表轉換為DataFrame格式\n",
    "    GainList = pd.DataFrame(GainList)\n",
    "    # 將列名設定為'Gain'\n",
    "    GainList['Gain'] = GainList[0]\n",
    "    # 刪除原來的列\n",
    "    GainList = GainList.drop([0], axis=1)\n",
    "    # 將索引設定為進場點的時間\n",
    "    GainList.index = EntryList.index[0:-1]\n",
    "\n",
    "    # 繪製收益曲線\n",
    "    GainList.plot()\n",
    "\n",
    "    # 返回總收益\n",
    "    return Gain"
   ]
  },
  {
   "cell_type": "code",
   "execution_count": 71,
   "id": "542459cd",
   "metadata": {},
   "outputs": [
    {
     "data": {
      "text/plain": [
       "40.6"
      ]
     },
     "execution_count": 71,
     "metadata": {},
     "output_type": "execute_result"
    },
    {
     "data": {
      "image/png": "[encoded data removed]",
      "text/plain": [
       "<Figure size 432x288 with 1 Axes>"
      ]
     },
     "metadata": {
      "needs_background": "light"
     },
     "output_type": "display_data"
    }
   ],
   "source": [
    "Backtesting(Data)"
   ]
  },
  {
   "cell_type": "code",
   "execution_count": 72,
   "id": "8f43ed83",
   "metadata": {},
   "outputs": [
    {
     "data": {
      "text/plain": [
       "Date\n",
       "2014-01-02    False\n",
       "2014-01-03    False\n",
       "2014-01-06    False\n",
       "2014-01-07    False\n",
       "2014-01-08    False\n",
       "              ...  \n",
       "2023-10-30    False\n",
       "2023-10-31    False\n",
       "2023-11-01    False\n",
       "2023-11-02    False\n",
       "2023-11-03    False\n",
       "Name: Price, Length: 2402, dtype: bool"
      ]
     },
     "execution_count": 72,
     "metadata": {},
     "output_type": "execute_result"
    },
    {
     "data": {
      "image/png": "[encoded data removed]",
      "text/plain": [
       "<Figure size 432x288 with 1 Axes>"
      ]
     },
     "metadata": {
      "needs_background": "light"
     },
     "output_type": "display_data"
    }
   ],
   "source": [
    "# 使用價格的30天中位數作為濾波器\n",
    "Filter = Data.Price.rolling(30).median()\n",
    "\n",
    "# 進場條件：價格高於濾波器\n",
    "Entry = Entry & (Data.Price > Filter)\n",
    "\n",
    "# 將進場條件以整數形式繪製\n",
    "Entry.astype(int).plot()\n",
    "\n",
    "# 將進場條件更新到資料框中\n",
    "Data['Entry'] = Entry\n",
    "Data['Exit'] = Exit\n",
    "\n",
    "# 返回進場條件\n",
    "Entry"
   ]
  },
  {
   "cell_type": "code",
   "execution_count": 73,
   "id": "a24a8745",
   "metadata": {},
   "outputs": [
    {
     "data": {
      "text/plain": [
       "40.14999999999999"
      ]
     },
     "execution_count": 73,
     "metadata": {},
     "output_type": "execute_result"
    },
    {
     "data": {
      "image/png": "[encoded data removed]",
      "text/plain": [
       "<Figure size 432x288 with 1 Axes>"
      ]
     },
     "metadata": {
      "needs_background": "light"
     },
     "output_type": "display_data"
    }
   ],
   "source": [
    "Backtesting(Data)"
   ]
  }
 ],
 "metadata": {
  "kernelspec": {
   "display_name": "Python 3 (ipykernel)",
   "language": "python",
   "name": "python3"
  },
  "language_info": {
   "codemirror_mode": {
    "name": "ipython",
    "version": 3
   },
   "file_extension": ".py",
   "mimetype": "text/x-python",
   "name": "python",
   "nbconvert_exporter": "python",
   "pygments_lexer": "ipython3",
   "version": "3.9.7"
  }
 },
 "nbformat": 4,
 "nbformat_minor": 5
}
